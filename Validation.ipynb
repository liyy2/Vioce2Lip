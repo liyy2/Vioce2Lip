{
 "cells": [
  {
   "cell_type": "code",
   "execution_count": 125,
   "metadata": {},
   "outputs": [
    {
     "name": "stdout",
     "output_type": "stream",
     "text": [
      "The model has 6,335,784 trainable parameters\n"
     ]
    },
    {
     "data": {
      "text/plain": [
       "<All keys matched successfully>"
      ]
     },
     "execution_count": 125,
     "metadata": {},
     "output_type": "execute_result"
    }
   ],
   "source": [
    "import numpy as np\n",
    "import torch\n",
    "import torch.nn as nn\n",
    "import torch.optim as optim\n",
    "import torch.nn.functional as F\n",
    "import random\n",
    "from tqdm import tqdm, trange\n",
    "\n",
    "from faceio import get_date_directories\n",
    "from utils import attempt_load_day, load_day_to_batch\n",
    "from network import create_network\n",
    "\n",
    "# init device and ensure deterministic\n",
    "SEED = 997\n",
    "random.seed(SEED)\n",
    "np.random.seed(SEED)\n",
    "torch.manual_seed(SEED)\n",
    "torch.cuda.manual_seed(SEED)\n",
    "torch.backends.cudnn.deterministic = True\n",
    "device = torch.device('cuda:0')\n",
    "\n",
    "RATIO = 1\n",
    "video_by_day = get_date_directories('bili_video', RATIO=RATIO)\n",
    "model = create_network(device)\n",
    "model.load_state_dict(torch.load('video2lip_ratio10_epoch100.pt'))"
   ]
  },
  {
   "cell_type": "code",
   "execution_count": 127,
   "metadata": {},
   "outputs": [
    {
     "name": "stdout",
     "output_type": "stream",
     "text": [
      "Evaluating on day 1 (of 6): /home/yunyangli/CMLR/bili_video/F/Woman2_F_Av970352315\n",
      "loss=0.00004 / RMSE = 0.00671\n",
      "Evaluating on day 2 (of 6): /home/yunyangli/CMLR/bili_video/F/WomenA_F_Av970352315\n",
      "loss=0.00010 / RMSE = 0.01020\n",
      "Evaluating on day 3 (of 6): /home/yunyangli/CMLR/bili_video/F/YangLi_F_Av330752427\n",
      "loss=0.00005 / RMSE = 0.00722\n",
      "Evaluating on day 4 (of 6): /home/yunyangli/CMLR/bili_video/M/LiDan_M_Av330752427\n",
      "loss=0.00002 / RMSE = 0.00450\n",
      "Evaluating on day 5 (of 6): /home/yunyangli/CMLR/bili_video/M/LuoXiang_M_Av330752427\n",
      "loss=0.00001 / RMSE = 0.00278\n",
      "Evaluating on day 6 (of 6): /home/yunyangli/CMLR/bili_video/M/ZhuYidan_M_Av330752427\n",
      "loss=0.00008 / RMSE = 0.00870\n",
      "overall loss for 5078 frames: 0.00003 / overall RMSE = 0.00563\n"
     ]
    }
   ],
   "source": [
    "from math import sqrt\n",
    "\n",
    "model.eval()\n",
    "criterion = nn.MSELoss()\n",
    "epoch_loss, epoch_slices = 0, 0\n",
    "\n",
    "r = []\n",
    "\n",
    "for day_idx in range(len(video_by_day)):\n",
    "\n",
    "    source = video_by_day[day_idx]['sources'][day_idx][0]\n",
    "    source = source[:source.rfind('/')]\n",
    "    print('Evaluating on day %d (of %d): %s' % (day_idx+1, len(video_by_day), source))\n",
    "\n",
    "    total_slices, src_lens, inputs, label = load_day_to_batch(video_by_day, day_idx, device)\n",
    "    src_len = torch.Tensor(src_lens)\n",
    "\n",
    "    output = model(inputs, src_len).view(-1, len(src_lens), 20, 2).cpu()\n",
    "    r.append((source, src_len, label, output.detach()))\n",
    "\n",
    "    loss = criterion(label, output)\n",
    "    day_loss = loss.item() / total_slices\n",
    "    epoch_loss += loss.item()\n",
    "    epoch_slices += total_slices\n",
    "    \n",
    "    print('loss=%.5f / RMSE = %.5f' % (day_loss, sqrt(day_loss)))\n",
    "\n",
    "overall_loss = epoch_loss/epoch_slices\n",
    "print('overall loss for %d frames: %.5f / overall RMSE = %.5f' % (epoch_slices, overall_loss, sqrt(overall_loss)))"
   ]
  },
  {
   "cell_type": "code",
   "execution_count": 72,
   "metadata": {},
   "outputs": [
    {
     "data": {
      "text/plain": [
       "(tensor([179., 195., 243.]), torch.Size([243, 3, 20, 2]))"
      ]
     },
     "execution_count": 72,
     "metadata": {},
     "output_type": "execute_result"
    }
   ],
   "source": [
    "r[0][1], r[0][2].shape"
   ]
  },
  {
   "cell_type": "code",
   "execution_count": 123,
   "metadata": {},
   "outputs": [
    {
     "data": {
      "text/plain": [
       "(torch.Size([52, 20, 2]), tensor(0.0036))"
      ]
     },
     "execution_count": 123,
     "metadata": {},
     "output_type": "execute_result"
    }
   ],
   "source": [
    "r_idx = 0\n",
    "sel_r = r[r_idx]\n",
    "source, src_len, label, output = sel_r\n",
    "\n",
    "seq_idx = 0\n",
    "seq_len = int(src_len[seq_idx].item())\n",
    "seq_label = label[:seq_len, seq_idx, :, :]\n",
    "seq_pred = output[:seq_len, seq_idx, :, :]\n",
    "\n",
    "seq_label.shape, criterion(seq_label, seq_pred)"
   ]
  },
  {
   "cell_type": "code",
   "execution_count": 124,
   "metadata": {},
   "outputs": [
    {
     "name": "stderr",
     "output_type": "stream",
     "text": [
      "100%|██████████| 52/52 [00:12<00:00,  4.20it/s]\n"
     ]
    }
   ],
   "source": [
    "# ffmpeg -f image2 -i gen/lip%3d.jpg lip.mp4\n",
    "\n",
    "for lip_idx in tqdm(range(seq_label.shape[0])):\n",
    "\n",
    "    # %matplotlib inline\n",
    "    import matplotlib.pyplot as plt\n",
    "    fig = plt.figure(num=None, figsize=(12, 4), dpi=160, facecolor='w', edgecolor='k')\n",
    "    fig.suptitle('SPEECH2LIP %s (seq %d, lip %d)' % (source, seq_idx, lip_idx), fontsize=16, y=1.03)\n",
    "    plt.style.use('seaborn-whitegrid')\n",
    "\n",
    "    def draw_lip(plt, lip):\n",
    "        x,y = lip[:, 0], lip[:, 1]\n",
    "\n",
    "        for i in range(12):\n",
    "            x1,y1 = lip[i,0], lip[i,1]\n",
    "            if i != 11:\n",
    "                x2,y2 = lip[i+1,0], lip[i+1,1]\n",
    "            else:\n",
    "                x2,y2 = lip[0,0], lip[0,1]\n",
    "            plt.plot([x1, x2], [y1, y2], color='#8D021F')\n",
    "\n",
    "        for i in range(12, 20):\n",
    "            x1,y1 = lip[i,0], lip[i,1]\n",
    "            if i != 19:\n",
    "                x2,y2 = lip[i+1,0], lip[i+1,1]\n",
    "            else:\n",
    "                x2,y2 = lip[12,0], lip[12,1]\n",
    "            plt.plot([x1, x2], [y1, y2], color='#B80F0A')\n",
    "\n",
    "        for i, z in enumerate(lip):\n",
    "            plt.annotate(str(i+49), (z[0], z[1]))\n",
    "\n",
    "        plt.plot(x, y, 'o', color='black')\n",
    "        plt.set_xlim([-1.25, 1.25])\n",
    "        plt.set_ylim([-0.75, 0.75])\n",
    "\n",
    "    ax = plt.subplot(121)\n",
    "    ax.set_title('Lip: groundtruth')\n",
    "    draw_lip(ax, seq_label[lip_idx])\n",
    "    ax = plt.subplot(122)\n",
    "    ax.set_title('Lip: pred')\n",
    "    draw_lip(ax, seq_pred[lip_idx])\n",
    "    \n",
    "    plt.savefig(\"gen2/lip%03d.jpg\" % lip_idx)\n",
    "    plt.close()"
   ]
  },
  {
   "cell_type": "code",
   "execution_count": 146,
   "metadata": {},
   "outputs": [],
   "source": [
    "x = attempt_load_day(video_by_day, 4)"
   ]
  },
  {
   "cell_type": "code",
   "execution_count": 148,
   "metadata": {},
   "outputs": [
    {
     "data": {
      "image/png": "[encoded data removed]",
      "text/plain": [
       "<Figure size 1920x1920 with 1 Axes>"
      ]
     },
     "metadata": {},
     "output_type": "display_data"
    }
   ],
   "source": [
    "mfcc_data = x[0]['a'][:, :100]\n",
    "\n",
    "from matplotlib import cm\n",
    "%matplotlib inline\n",
    "fig = plt.figure(num=None, figsize=(12, 4), dpi=160, facecolor='w', edgecolor='k')\n",
    "ax = plt.subplot(111)\n",
    "cax = ax.imshow(mfcc_data, interpolation='nearest', cmap=cm.coolwarm, origin='lower')\n",
    "ax.set_title('MFCC')\n",
    "\n",
    "plt.show()"
   ]
  }
 ],
 "metadata": {
  "kernelspec": {
   "display_name": "Face",
   "language": "python",
   "name": "face"
  },
  "language_info": {
   "codemirror_mode": {
    "name": "ipython",
    "version": 3
   },
   "file_extension": ".py",
   "mimetype": "text/x-python",
   "name": "python",
   "nbconvert_exporter": "python",
   "pygments_lexer": "ipython3",
   "version": "3.8.3"
  }
 },
 "nbformat": 4,
 "nbformat_minor": 4
}
