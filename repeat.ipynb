{
 "cells": [
  {
   "cell_type": "code",
   "execution_count": null,
   "metadata": {},
   "outputs": [],
   "source": []
  },
  {
   "cell_type": "code",
   "execution_count": 4,
   "metadata": {},
   "outputs": [],
   "source": [
    "from faceio import get_date_directories"
   ]
  },
  {
   "cell_type": "code",
   "execution_count": 5,
   "metadata": {},
   "outputs": [],
   "source": [
    "video_by_day = get_date_directories('video', RATIO = 10)"
   ]
  },
  {
   "cell_type": "code",
   "execution_count": 8,
   "metadata": {},
   "outputs": [
    {
     "name": "stderr",
     "output_type": "stream",
     "text": [
      "100%|██████████| 120/120 [46:11<00:00, 23.10s/it]\n"
     ]
    }
   ],
   "source": [
    "import glob, math\n",
    "import numpy as np\n",
    "from tqdm import tqdm, trange\n",
    "import cv2\n",
    "import os\n",
    "import dlib\n",
    "i = 0\n",
    "lastFrame = None\n",
    "\n",
    "\n",
    "detector = dlib.get_frontal_face_detector()\n",
    "predictor = dlib.shape_predictor('shape_predictor_68_face_landmarks.dat')\n",
    "\n",
    "\n",
    "def getLandmarks(img):\n",
    "    dets = detector(img, 1)\n",
    "    for k, d in enumerate(dets):\n",
    "        shape = predictor(img, d)\n",
    "        currPoints = np.array([shape.part(i) for i in range(48, 68)])\n",
    "        return currPoints\n",
    "    dlib.hit_enter_to_continue()\n",
    "\n",
    "def rotate(origin, point, angle):\n",
    "    \"\"\"\n",
    "    Rotate a point counterclockwise by a given angle around a given origin.\n",
    "\n",
    "    The angle should be given in radians.\n",
    "    \"\"\"\n",
    "    ox, oy = origin\n",
    "    px, py = point\n",
    "\n",
    "    qx = ox + math.cos(angle) * (px - ox) - math.sin(angle) * (py - oy)\n",
    "    qy = oy + math.sin(angle) * (px - ox) + math.cos(angle) * (py - oy)\n",
    "    return qx, qy\n",
    "\n",
    "def read_video(file, num):\n",
    "    videos = []\n",
    "    cap = cv2.VideoCapture(file)\n",
    "    n_frames = int(cap.get(cv2.CAP_PROP_FRAME_COUNT))\n",
    "    fps = cap.get(cv2.CAP_PROP_FPS)\n",
    "    if fps != 25:\n",
    "        print('[!] WARN: Framerate inconsistent.')\n",
    "    dur = n_frames/fps\n",
    "    \n",
    "    for i in range(num):\n",
    "        _, frame = cap.read()\n",
    "        if frame is None:\n",
    "            frame = lastFrame\n",
    "        else:\n",
    "            lastFrame = frame\n",
    "        videos.append(frame)\n",
    "    return videos\n",
    "\n",
    "for day in trange(len(video_by_day)):\n",
    "    if day % 4 ==3:\n",
    "        if not os.path.exists(video_by_day[day]['target']):\n",
    "            toBeConcat = []\n",
    "            # the outer loop is we enumerate each video, we need to concatenate all of them\n",
    "            for index, (file, num) in enumerate(video_by_day[day]['sources']):\n",
    "                # videos is images\n",
    "                frames = read_video(file, num)\n",
    "                # this loop is to enumerate all the pictures\n",
    "                for img_num, img in enumerate(frames):\n",
    "                    points = getLandmarks(img) # get landmarks return a set of points for a given image\n",
    "                    # this loop is to enumerate all the pictures\n",
    "                    origin_x = (points[0].x + points[6].x)/2\n",
    "                    origin_y = (points[0].y + points[6].y)/2\n",
    "                    origin = (origin_x, origin_y)\n",
    "\n",
    "                    deltaY = points[6].y - points[0].y\n",
    "                    deltaX = points[6].x - points[0].x\n",
    "                    angle = -1 * math.atan2(deltaY, deltaX)\n",
    "                    new_points = []\n",
    "\n",
    "                    scaleFactor = 1\n",
    "                    for i, _point in enumerate(points):\n",
    "                        newpoint = list(rotate(origin, (_point.x, _point.y), angle))\n",
    "                        if i == 0:\n",
    "                            scaleFactor = -1/(newpoint[0] - origin_x)\n",
    "                        newpoint[0] = (newpoint[0] - origin_x)*scaleFactor\n",
    "                        newpoint[1] = (newpoint[1] - origin_y)*scaleFactor\n",
    "                        new_points.append(newpoint)\n",
    "                        # print(newpoint) \n",
    "                    new_points = np.concatenate(new_points).reshape(20,2)\n",
    "                    toBeConcat.append(new_points)\n",
    "\n",
    "            output = np.stack(toBeConcat)\n",
    "            np.save(video_by_day[day]['target'], output)\n",
    "\n",
    "\n",
    "    "
   ]
  },
  {
   "cell_type": "code",
   "execution_count": null,
   "metadata": {},
   "outputs": [],
   "source": []
  }
 ],
 "metadata": {
  "kernelspec": {
   "display_name": "Face",
   "language": "python",
   "name": "face"
  },
  "language_info": {
   "codemirror_mode": {
    "name": "ipython",
    "version": 3
   },
   "file_extension": ".py",
   "mimetype": "text/x-python",
   "name": "python",
   "nbconvert_exporter": "python",
   "pygments_lexer": "ipython3",
   "version": "3.8.3"
  }
 },
 "nbformat": 4,
 "nbformat_minor": 4
}
