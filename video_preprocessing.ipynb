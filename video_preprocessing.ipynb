{
 "cells": [
  {
   "cell_type": "code",
   "execution_count": 1,
   "metadata": {},
   "outputs": [],
   "source": [
    "from faceio import get_date_directories"
   ]
  },
  {
   "cell_type": "code",
   "execution_count": 2,
   "metadata": {},
   "outputs": [],
   "source": [
    "video_by_day = get_date_directories('bili_video', RATIO = 1)"
   ]
  },
  {
   "cell_type": "code",
   "execution_count": 4,
   "metadata": {},
   "outputs": [
    {
     "data": {
      "text/plain": [
       "6"
      ]
     },
     "execution_count": 4,
     "metadata": {},
     "output_type": "execute_result"
    }
   ],
   "source": [
    "len(video_by_day)"
   ]
  },
  {
   "cell_type": "code",
   "execution_count": 3,
   "metadata": {},
   "outputs": [
    {
     "name": "stderr",
     "output_type": "stream",
     "text": [
      "  0%|          | 0/1 [00:00<?, ?it/s]"
     ]
    },
    {
     "name": "stdout",
     "output_type": "stream",
     "text": [
      "187 [[[ 0  0  0]\n",
      "  [ 0  0  0]\n",
      "  [ 0  0  0]\n",
      "  ...\n",
      "  [ 0  0  0]\n",
      "  [ 0  0  0]\n",
      "  [ 0  0  0]]\n",
      "\n",
      " [[ 0  0  0]\n",
      "  [ 0  0  0]\n",
      "  [ 0  0  0]\n",
      "  ...\n",
      "  [ 0  0  0]\n",
      "  [ 0  0  0]\n",
      "  [ 0  0  0]]\n",
      "\n",
      " [[ 0  0  0]\n",
      "  [ 0  0  0]\n",
      "  [ 0  0  0]\n",
      "  ...\n",
      "  [ 0  0  0]\n",
      "  [ 0  0  0]\n",
      "  [ 0  0  0]]\n",
      "\n",
      " ...\n",
      "\n",
      " [[ 9  0 47]\n",
      "  [17  0 55]\n",
      "  [18  0 56]\n",
      "  ...\n",
      "  [14  9 15]\n",
      "  [ 6  1  7]\n",
      "  [ 2  0  3]]\n",
      "\n",
      " [[ 9  0 47]\n",
      "  [18  0 56]\n",
      "  [18  0 56]\n",
      "  ...\n",
      "  [14  9 15]\n",
      "  [ 6  1  7]\n",
      "  [ 2  0  3]]\n",
      "\n",
      " [[ 9  0 47]\n",
      "  [18  0 56]\n",
      "  [18  0 56]\n",
      "  ...\n",
      "  [13  8 14]\n",
      "  [ 7  2  8]\n",
      "  [ 2  0  3]]] /home/yunyangli/CMLR/bili_video/M/LuoXiang_M_Av330752427/LuoXiang_M_Av330752427_1min36s.mp4\n"
     ]
    },
    {
     "name": "stderr",
     "output_type": "stream",
     "text": [
      "100%|██████████| 1/1 [07:31<00:00, 451.07s/it]\n"
     ]
    }
   ],
   "source": [
    "import glob, math\n",
    "import numpy as np\n",
    "from tqdm import tqdm, trange\n",
    "import cv2\n",
    "import dlib\n",
    "import os\n",
    "i = 0\n",
    "lastFrame = None\n",
    "\n",
    "\n",
    "detector = dlib.get_frontal_face_detector()\n",
    "predictor = dlib.shape_predictor('shape_predictor_68_face_landmarks.dat')\n",
    "\n",
    "\n",
    "def getLandmarks(img):\n",
    "    dets = detector(img, 1)\n",
    "    for k, d in enumerate(dets):\n",
    "        shape = predictor(img, d)\n",
    "        currPoints = np.array([shape.part(i) for i in range(48, 68)])\n",
    "        return currPoints\n",
    "    dlib.hit_enter_to_continue()\n",
    "\n",
    "def rotate(origin, point, angle):\n",
    "    \"\"\"\n",
    "    Rotate a point counterclockwise by a given angle around a given origin.\n",
    "\n",
    "    The angle should be given in radians.\n",
    "    \"\"\"\n",
    "    ox, oy = origin\n",
    "    px, py = point\n",
    "\n",
    "    qx = ox + math.cos(angle) * (px - ox) - math.sin(angle) * (py - oy)\n",
    "    qy = oy + math.sin(angle) * (px - ox) + math.cos(angle) * (py - oy)\n",
    "    return qx, qy\n",
    "\n",
    "def read_video(file, num):\n",
    "    videos = []\n",
    "    cap = cv2.VideoCapture(file)\n",
    "    n_frames = int(cap.get(cv2.CAP_PROP_FRAME_COUNT))\n",
    "    fps = cap.get(cv2.CAP_PROP_FPS)\n",
    "    if fps != 25:\n",
    "        print('[!] WARN: Framerate inconsistent.')\n",
    "    dur = n_frames/fps\n",
    "    \n",
    "    for i in range(num):\n",
    "        _, frame = cap.read()\n",
    "        if frame is None:\n",
    "            frame = lastFrame\n",
    "        else:\n",
    "            lastFrame = frame\n",
    "        videos.append(frame)\n",
    "    return videos\n",
    "\n",
    "for day in trange(4, 5):\n",
    "    if os.path.exists(video_by_day[day]['target']):\n",
    "        toBeConcat = []\n",
    "        # the outer loop is we enumerate each video, we need to concatenate all of them\n",
    "        for index, (file, num) in enumerate(video_by_day[day]['sources']):\n",
    "            # videos is images\n",
    "            frames = read_video(file, num)\n",
    "            # this loop is to enumerate all the pictures\n",
    "            for img_num, img in enumerate(frames):\n",
    "                try:\n",
    "                    points = getLandmarks(img) # get landmarks return a set of points for a given image\n",
    "                    # this loop is to enumerate all the pictures\n",
    "                    origin_x = (points[0].x + points[6].x)/2\n",
    "                    origin_y = (points[0].y + points[6].y)/2\n",
    "                    origin = (origin_x, origin_y)\n",
    "                    \n",
    "                    deltaY = points[6].y - points[0].y\n",
    "                    deltaX = points[6].x - points[0].x\n",
    "                    angle = -1 * math.atan2(deltaY, deltaX)\n",
    "                    new_points = []\n",
    "\n",
    "                    scaleFactor = 1\n",
    "                    for i, _point in enumerate(points):\n",
    "                        newpoint = list(rotate(origin, (_point.x, _point.y), angle))\n",
    "                        if i == 0:\n",
    "                            scaleFactor = -1/(newpoint[0] - origin_x)\n",
    "                        newpoint[0] = (newpoint[0] - origin_x)*scaleFactor\n",
    "                        newpoint[1] = (newpoint[1] - origin_y)*scaleFactor\n",
    "                        new_points.append(newpoint)\n",
    "                        # print(newpoint) \n",
    "                    new_points = np.concatenate(new_points).reshape(20,2)\n",
    "                    toBeConcat.append(new_points)\n",
    "                except:\n",
    "                    print(img_num, img, file)\n",
    "\n",
    "            output = np.stack(toBeConcat)\n",
    "            np.save(video_by_day[day]['target'], output)\n",
    "\n",
    "\n",
    "    "
   ]
  },
  {
   "cell_type": "code",
   "execution_count": 12,
   "metadata": {},
   "outputs": [
    {
     "data": {
      "text/plain": [
       "{'sources': [('/home/yunyangli/CMLR/bili_video/M/LuoXiang_M_Av330752427/LuoXiang_M_Av330752427_1min36s.mp4',\n",
       "   231),\n",
       "  ('/home/yunyangli/CMLR/bili_video/M/LuoXiang_M_Av330752427/LuoXiang_M_Av330752427_1min59s.mp4',\n",
       "   193),\n",
       "  ('/home/yunyangli/CMLR/bili_video/M/LuoXiang_M_Av330752427/LuoXiang_M_av970352315_begin_10s.mp4',\n",
       "   275),\n",
       "  ('/home/yunyangli/CMLR/bili_video/M/LuoXiang_M_Av330752427/LuoXiang_M_av970352315_begin_1min08s.mp4',\n",
       "   196),\n",
       "  ('/home/yunyangli/CMLR/bili_video/M/LuoXiang_M_Av330752427/LuoXiang_M_av970352315_begin_1min15s.mp4',\n",
       "   251),\n",
       "  ('/home/yunyangli/CMLR/bili_video/M/LuoXiang_M_Av330752427/LuoXiang_M_av970352315_begin_1min26s.mp4',\n",
       "   203),\n",
       "  ('/home/yunyangli/CMLR/bili_video/M/LuoXiang_M_Av330752427/LuoXiang_M_av970352315_begin_22s.mp4',\n",
       "   148),\n",
       "  ('/home/yunyangli/CMLR/bili_video/M/LuoXiang_M_Av330752427/LuoXiang_M_av970352315_begin_28s.mp4',\n",
       "   200),\n",
       "  ('/home/yunyangli/CMLR/bili_video/M/LuoXiang_M_Av330752427/LuoXiang_M_av970352315_begin_36s.mp4',\n",
       "   125),\n",
       "  ('/home/yunyangli/CMLR/bili_video/M/LuoXiang_M_Av330752427/LuoXiang_M_av970352315_begin_40s.mp4',\n",
       "   197),\n",
       "  ('/home/yunyangli/CMLR/bili_video/M/LuoXiang_M_Av330752427/LuoXiang_M_av970352315_begin_48s.mp4',\n",
       "   277),\n",
       "  ('/home/yunyangli/CMLR/bili_video/M/LuoXiang_M_Av330752427/LuoXiang_M_av970352315_begin_59s.mp4',\n",
       "   210)],\n",
       " 'target': '/home/yunyangli/CMLR/bili_video_feat/M/LuoXiang_M_Av330752427.npy'}"
      ]
     },
     "execution_count": 12,
     "metadata": {},
     "output_type": "execute_result"
    }
   ],
   "source": [
    "video_by_day[4]"
   ]
  },
  {
   "cell_type": "code",
   "execution_count": null,
   "metadata": {},
   "outputs": [],
   "source": []
  }
 ],
 "metadata": {
  "kernelspec": {
   "display_name": "Face",
   "language": "python",
   "name": "face"
  },
  "language_info": {
   "codemirror_mode": {
    "name": "ipython",
    "version": 3
   },
   "file_extension": ".py",
   "mimetype": "text/x-python",
   "name": "python",
   "nbconvert_exporter": "python",
   "pygments_lexer": "ipython3",
   "version": "3.8.3"
  }
 },
 "nbformat": 4,
 "nbformat_minor": 4
}
